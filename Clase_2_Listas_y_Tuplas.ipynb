{
  "nbformat": 4,
  "nbformat_minor": 0,
  "metadata": {
    "colab": {
      "provenance": [],
      "authorship_tag": "ABX9TyO0IUj2PUcIPzcAwgYJyksk",
      "include_colab_link": true
    },
    "kernelspec": {
      "name": "python3",
      "display_name": "Python 3"
    },
    "language_info": {
      "name": "python"
    }
  },
  "cells": [
    {
      "cell_type": "markdown",
      "metadata": {
        "id": "view-in-github",
        "colab_type": "text"
      },
      "source": [
        "<a href=\"https://colab.research.google.com/github/jubascunanc/Back-End/blob/main/Clase_2_Listas_y_Tuplas.ipynb\" target=\"_parent\"><img src=\"https://colab.research.google.com/assets/colab-badge.svg\" alt=\"Open In Colab\"/></a>"
      ]
    },
    {
      "cell_type": "code",
      "execution_count": 2,
      "metadata": {
        "colab": {
          "base_uri": "https://localhost:8080/"
        },
        "id": "FdFePKrQb0nN",
        "outputId": "3085189d-9130-42fd-9f8c-8cf8fd50272b"
      },
      "outputs": [
        {
          "output_type": "execute_result",
          "data": {
            "text/plain": [
              "[24, 12, 'Hola mi dato', 14, 18]"
            ]
          },
          "metadata": {},
          "execution_count": 2
        }
      ],
      "source": [
        "[24, 12, \"Hola mi dato\", 14, 18]"
      ]
    },
    {
      "cell_type": "code",
      "source": [
        "type ([25, 30, 45, \"mi lista \"])"
      ],
      "metadata": {
        "colab": {
          "base_uri": "https://localhost:8080/"
        },
        "id": "b51-WeYqcHTt",
        "outputId": "45c05061-a112-41cc-b8b9-b822092dd0b6"
      },
      "execution_count": 3,
      "outputs": [
        {
          "output_type": "execute_result",
          "data": {
            "text/plain": [
              "list"
            ]
          },
          "metadata": {},
          "execution_count": 3
        }
      ]
    },
    {
      "cell_type": "code",
      "source": [
        "print(list)"
      ],
      "metadata": {
        "colab": {
          "base_uri": "https://localhost:8080/"
        },
        "id": "GeEtBULwcRwN",
        "outputId": "9413cff3-f09f-43af-f181-45268f9e9208"
      },
      "execution_count": 4,
      "outputs": [
        {
          "output_type": "stream",
          "name": "stdout",
          "text": [
            "<class 'list'>\n"
          ]
        }
      ]
    },
    {
      "cell_type": "code",
      "source": [
        "cadena ='esta es una cadena de prueba'\n",
        "print(cadena)"
      ],
      "metadata": {
        "colab": {
          "base_uri": "https://localhost:8080/"
        },
        "id": "vJnFVGcKcl3w",
        "outputId": "d9df3dd5-2616-4e9e-f0e9-f5b7b4daa7c0"
      },
      "execution_count": 10,
      "outputs": [
        {
          "output_type": "stream",
          "name": "stdout",
          "text": [
            "esta es una cadena de prueba\n"
          ]
        }
      ]
    },
    {
      "cell_type": "code",
      "source": [
        "lista = [5+ 5+ 10+ 7]\n",
        "print(lista)"
      ],
      "metadata": {
        "colab": {
          "base_uri": "https://localhost:8080/"
        },
        "id": "xwd9zzQ5dOct",
        "outputId": "d45a179e-93a4-4419-c59c-d48202275ff6"
      },
      "execution_count": 13,
      "outputs": [
        {
          "output_type": "stream",
          "name": "stdout",
          "text": [
            "[27]\n"
          ]
        }
      ]
    },
    {
      "cell_type": "code",
      "source": [
        "lista = [5,5,10]\n",
        "lista_concatenada = lista + [cadena, 5510]\n",
        "print(lista_concatenada)"
      ],
      "metadata": {
        "colab": {
          "base_uri": "https://localhost:8080/"
        },
        "id": "Ig4qZTe-dyEz",
        "outputId": "9ac58e7e-b7af-4943-e0da-5eaedbcfaee6"
      },
      "execution_count": 18,
      "outputs": [
        {
          "output_type": "stream",
          "name": "stdout",
          "text": [
            "[5, 5, 10, 'esta es una cadena de prueba', 5510]\n"
          ]
        }
      ]
    },
    {
      "cell_type": "code",
      "source": [
        "lista1 = (\"esta es mi primera lista\", [5,10,15,20])\n",
        "print(lista1)"
      ],
      "metadata": {
        "colab": {
          "base_uri": "https://localhost:8080/"
        },
        "id": "UrnWGlZ9f9oU",
        "outputId": "9e0c06e3-3480-40c3-8688-1d5a4d64c20c"
      },
      "execution_count": 24,
      "outputs": [
        {
          "output_type": "stream",
          "name": "stdout",
          "text": [
            "('esta es mi primera lista', [5, 10, 15, 20])\n"
          ]
        }
      ]
    },
    {
      "cell_type": "code",
      "source": [
        "lista = [1,2,3,4]\n",
        "print(lista)\n",
        "lista= []\n",
        "print(lista)"
      ],
      "metadata": {
        "colab": {
          "base_uri": "https://localhost:8080/"
        },
        "id": "i3ccpUPsizX9",
        "outputId": "7737d019-5f19-4003-fc7c-1a4749c01cdc"
      },
      "execution_count": 27,
      "outputs": [
        {
          "output_type": "stream",
          "name": "stdout",
          "text": [
            "[1, 2, 3, 4]\n",
            "[]\n"
          ]
        }
      ]
    },
    {
      "cell_type": "code",
      "source": [
        "lista = [1,3,5,6]\n",
        "lista.append(\"otro valor\")\n",
        "print(lista)"
      ],
      "metadata": {
        "colab": {
          "base_uri": "https://localhost:8080/"
        },
        "id": "-DTVnGp9kBPL",
        "outputId": "4f3f5fa5-eeb8-4c8c-fef4-8fb57f059635"
      },
      "execution_count": 28,
      "outputs": [
        {
          "output_type": "stream",
          "name": "stdout",
          "text": [
            "[1, 3, 5, 6, 'otro valor']\n"
          ]
        }
      ]
    },
    {
      "cell_type": "code",
      "source": [
        "lista = [5,6,7,8,9]\n",
        "lista.pop()\n",
        "print(lista)"
      ],
      "metadata": {
        "colab": {
          "base_uri": "https://localhost:8080/"
        },
        "id": "RendvfRCleVG",
        "outputId": "9be7ebd1-b699-48ae-c954-780db7bb86b2"
      },
      "execution_count": 30,
      "outputs": [
        {
          "output_type": "stream",
          "name": "stdout",
          "text": [
            "[5, 6, 7, 8]\n"
          ]
        }
      ]
    },
    {
      "cell_type": "code",
      "source": [
        "lista = [1,3,5,6,7,8,9,10,11]\n",
        "lista.count\n",
        "print(lista)\n",
        "print(lista.count(6))"
      ],
      "metadata": {
        "colab": {
          "base_uri": "https://localhost:8080/"
        },
        "id": "cKVRuHSDlxP1",
        "outputId": "d9743a13-24ea-4286-81ea-056829a4239d"
      },
      "execution_count": 33,
      "outputs": [
        {
          "output_type": "stream",
          "name": "stdout",
          "text": [
            "[1, 3, 5, 6, 7, 8, 9, 10, 11]\n",
            "1\n"
          ]
        }
      ]
    },
    {
      "cell_type": "code",
      "source": [
        "tuplas_heterogeneas = [1,2,3,4,5,6]\n",
        "tupla = 2,4,6,8\n",
        "print(tuplas_heterogeneas)\n",
        "lista = [\"esta es una lista\"]\n",
        "print(lista)\n",
        "print(type(lista))\n",
        "print(type(tupla))"
      ],
      "metadata": {
        "colab": {
          "base_uri": "https://localhost:8080/"
        },
        "id": "c0xUIdulpjO1",
        "outputId": "3a9d4e2e-7e99-4e61-9b1c-f40df67f2ad6"
      },
      "execution_count": 39,
      "outputs": [
        {
          "output_type": "stream",
          "name": "stdout",
          "text": [
            "[1, 2, 3, 4, 5, 6]\n",
            "['esta es una lista']\n",
            "<class 'list'>\n",
            "<class 'tuple'>\n"
          ]
        }
      ]
    },
    {
      "cell_type": "code",
      "source": [
        "tupla = ()\n",
        "tupla = tuple()\n",
        "print(tuple('ricardo'))"
      ],
      "metadata": {
        "colab": {
          "base_uri": "https://localhost:8080/"
        },
        "id": "VNJXz5p7mV9F",
        "outputId": "f0055ce6-35f0-46ed-8f6b-c8be17685076"
      },
      "execution_count": 46,
      "outputs": [
        {
          "output_type": "stream",
          "name": "stdout",
          "text": [
            "('r', 'i', 'c', 'a', 'r', 'd', 'o')\n"
          ]
        }
      ]
    },
    {
      "cell_type": "code",
      "source": [
        "primer_tupla = (5,20,30)\n",
        "tupla = (\"esto, es ,una ,tupla\"), (\"otra ,tupla\")\n",
        "tupla[-2]\n",
        "print(tupla)\n",
        "print(primer_tupla[-2])"
      ],
      "metadata": {
        "colab": {
          "base_uri": "https://localhost:8080/"
        },
        "id": "yM8GxiZWwYsr",
        "outputId": "76cddf7f-45df-42c3-a260-4ea59d449471"
      },
      "execution_count": 54,
      "outputs": [
        {
          "output_type": "stream",
          "name": "stdout",
          "text": [
            "('esto, es ,una ,tupla', 'otra ,tupla')\n",
            "20\n"
          ]
        }
      ]
    }
  ]
}